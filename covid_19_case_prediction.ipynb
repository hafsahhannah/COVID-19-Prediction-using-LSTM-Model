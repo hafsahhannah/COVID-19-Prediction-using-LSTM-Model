{
  "nbformat": 4,
  "nbformat_minor": 0,
  "metadata": {
    "colab": {
      "provenance": [],
      "authorship_tag": "ABX9TyOXcveIjEQvjVH/nKXKq0Xw",
      "include_colab_link": true
    },
    "kernelspec": {
      "name": "python3",
      "display_name": "Python 3"
    },
    "language_info": {
      "name": "python"
    }
  },
  "cells": [
    {
      "cell_type": "markdown",
      "metadata": {
        "id": "view-in-github",
        "colab_type": "text"
      },
      "source": [
        "<a href=\"https://colab.research.google.com/github/hafsahhannah/COVID-19-Prediction-using-LSTM-Model/blob/main/covid_19_case_prediction.ipynb\" target=\"_parent\"><img src=\"https://colab.research.google.com/assets/colab-badge.svg\" alt=\"Open In Colab\"/></a>"
      ]
    },
    {
      "cell_type": "code",
      "execution_count": null,
      "metadata": {
        "id": "lNqJpKt4HF3X"
      },
      "outputs": [],
      "source": [
        "#%% Import packages\n",
        "\n",
        "from sklearn.preprocessing import MinMaxScaler\n",
        "from sklearn.metrics import mean_squared_error,mean_absolute_percentage_error\n",
        "from sklearn.model_selection import train_test_split\n",
        "from tensorflow import keras\n",
        "from sklearn.impute import KNNImputer\n",
        "from tensorflow.keras.models import Sequential\n",
        "from tensorflow.keras.layers import Dense\n",
        "from tensorflow.keras.callbacks import ModelCheckpoint, ReduceLROnPlateau, EarlyStopping\n",
        "from tensorflow.keras.layers import Dropout\n",
        "from tensorflow.keras.layers import LSTM\n",
        "from tensorflow.keras.utils import plot_model\n",
        "from tensorflow.keras.callbacks import TensorBoard, EarlyStopping\n",
        "from sklearn.metrics import mean_absolute_error\n",
        "import tensorflow as tf\n",
        "import matplotlib.pyplot as plt\n",
        "import pandas as pd\n",
        "import numpy as np\n",
        "import os\n",
        "import datetime"
      ]
    },
    {
      "cell_type": "code",
      "source": [
        "#%% Data loading\n",
        "\n",
        "TRAIN_DATASET = os.path.join(os.getcwd(), 'cases_malaysia_train.csv')\n",
        "TEST_DATASET = os.path.join(os.getcwd(), 'cases_malaysia_test.csv')\n",
        "\n",
        "train_df = pd.read_csv(TRAIN_DATASET)\n",
        "test_df = pd.read_csv(TEST_DATASET)"
      ],
      "metadata": {
        "id": "q-cE26RhLwAY"
      },
      "execution_count": null,
      "outputs": []
    },
    {
      "cell_type": "code",
      "source": [
        "#%% Data inspection\n",
        "\n",
        "train_df.head(5)   # to show n rows of data\n",
        "train_df.tail(5)   # to show n rows of data"
      ],
      "metadata": {
        "colab": {
          "base_uri": "https://localhost:8080/",
          "height": 300
        },
        "id": "bErKlx4ZM_PP",
        "outputId": "30915aee-e755-4888-ac56-f6d33cc814bc"
      },
      "execution_count": null,
      "outputs": [
        {
          "output_type": "execute_result",
          "data": {
            "text/plain": [
              "           date cases_new  cases_import  cases_recovered  cases_active  \\\n",
              "675  30/11/2021      4879            24             5168         64978   \n",
              "676   1/12/2021      5439            21             6803         63583   \n",
              "677   2/12/2021      5806            11             7246         62099   \n",
              "678   3/12/2021      5551            23             5301         62303   \n",
              "679   4/12/2021      4896            18             4676         62481   \n",
              "\n",
              "     cases_cluster  cases_unvax  cases_pvax  cases_fvax  cases_boost  ...  \\\n",
              "675             97         1125          55        3595          104  ...   \n",
              "676            110         1363          54        3900          122  ...   \n",
              "677            339         1325          40        4271          170  ...   \n",
              "678            179         1312          46        4046          147  ...   \n",
              "679            159         1143          56        3529          168  ...   \n",
              "\n",
              "     cases_60_69  cases_70_79  cases_80  cluster_import  cluster_religious  \\\n",
              "675          358          165        60             0.0               25.0   \n",
              "676          387          197        61             0.0               25.0   \n",
              "677          410          174        59             0.0               14.0   \n",
              "678          411          167        48             0.0                6.0   \n",
              "679          327          158        52             0.0                3.0   \n",
              "\n",
              "     cluster_community  cluster_highRisk  cluster_education  \\\n",
              "675                0.0              28.0               33.0   \n",
              "676                0.0               8.0               33.0   \n",
              "677                2.0              13.0              148.0   \n",
              "678                0.0               3.0              104.0   \n",
              "679                1.0              22.0               52.0   \n",
              "\n",
              "     cluster_detentionCentre  cluster_workplace  \n",
              "675                      0.0               31.0  \n",
              "676                      0.0               31.0  \n",
              "677                     52.0              110.0  \n",
              "678                      0.0               66.0  \n",
              "679                      0.0               81.0  \n",
              "\n",
              "[5 rows x 31 columns]"
            ],
            "text/html": [
              "\n",
              "  <div id=\"df-d280c45a-841e-4751-aac1-e66727dd57e6\">\n",
              "    <div class=\"colab-df-container\">\n",
              "      <div>\n",
              "<style scoped>\n",
              "    .dataframe tbody tr th:only-of-type {\n",
              "        vertical-align: middle;\n",
              "    }\n",
              "\n",
              "    .dataframe tbody tr th {\n",
              "        vertical-align: top;\n",
              "    }\n",
              "\n",
              "    .dataframe thead th {\n",
              "        text-align: right;\n",
              "    }\n",
              "</style>\n",
              "<table border=\"1\" class=\"dataframe\">\n",
              "  <thead>\n",
              "    <tr style=\"text-align: right;\">\n",
              "      <th></th>\n",
              "      <th>date</th>\n",
              "      <th>cases_new</th>\n",
              "      <th>cases_import</th>\n",
              "      <th>cases_recovered</th>\n",
              "      <th>cases_active</th>\n",
              "      <th>cases_cluster</th>\n",
              "      <th>cases_unvax</th>\n",
              "      <th>cases_pvax</th>\n",
              "      <th>cases_fvax</th>\n",
              "      <th>cases_boost</th>\n",
              "      <th>...</th>\n",
              "      <th>cases_60_69</th>\n",
              "      <th>cases_70_79</th>\n",
              "      <th>cases_80</th>\n",
              "      <th>cluster_import</th>\n",
              "      <th>cluster_religious</th>\n",
              "      <th>cluster_community</th>\n",
              "      <th>cluster_highRisk</th>\n",
              "      <th>cluster_education</th>\n",
              "      <th>cluster_detentionCentre</th>\n",
              "      <th>cluster_workplace</th>\n",
              "    </tr>\n",
              "  </thead>\n",
              "  <tbody>\n",
              "    <tr>\n",
              "      <th>675</th>\n",
              "      <td>30/11/2021</td>\n",
              "      <td>4879</td>\n",
              "      <td>24</td>\n",
              "      <td>5168</td>\n",
              "      <td>64978</td>\n",
              "      <td>97</td>\n",
              "      <td>1125</td>\n",
              "      <td>55</td>\n",
              "      <td>3595</td>\n",
              "      <td>104</td>\n",
              "      <td>...</td>\n",
              "      <td>358</td>\n",
              "      <td>165</td>\n",
              "      <td>60</td>\n",
              "      <td>0.0</td>\n",
              "      <td>25.0</td>\n",
              "      <td>0.0</td>\n",
              "      <td>28.0</td>\n",
              "      <td>33.0</td>\n",
              "      <td>0.0</td>\n",
              "      <td>31.0</td>\n",
              "    </tr>\n",
              "    <tr>\n",
              "      <th>676</th>\n",
              "      <td>1/12/2021</td>\n",
              "      <td>5439</td>\n",
              "      <td>21</td>\n",
              "      <td>6803</td>\n",
              "      <td>63583</td>\n",
              "      <td>110</td>\n",
              "      <td>1363</td>\n",
              "      <td>54</td>\n",
              "      <td>3900</td>\n",
              "      <td>122</td>\n",
              "      <td>...</td>\n",
              "      <td>387</td>\n",
              "      <td>197</td>\n",
              "      <td>61</td>\n",
              "      <td>0.0</td>\n",
              "      <td>25.0</td>\n",
              "      <td>0.0</td>\n",
              "      <td>8.0</td>\n",
              "      <td>33.0</td>\n",
              "      <td>0.0</td>\n",
              "      <td>31.0</td>\n",
              "    </tr>\n",
              "    <tr>\n",
              "      <th>677</th>\n",
              "      <td>2/12/2021</td>\n",
              "      <td>5806</td>\n",
              "      <td>11</td>\n",
              "      <td>7246</td>\n",
              "      <td>62099</td>\n",
              "      <td>339</td>\n",
              "      <td>1325</td>\n",
              "      <td>40</td>\n",
              "      <td>4271</td>\n",
              "      <td>170</td>\n",
              "      <td>...</td>\n",
              "      <td>410</td>\n",
              "      <td>174</td>\n",
              "      <td>59</td>\n",
              "      <td>0.0</td>\n",
              "      <td>14.0</td>\n",
              "      <td>2.0</td>\n",
              "      <td>13.0</td>\n",
              "      <td>148.0</td>\n",
              "      <td>52.0</td>\n",
              "      <td>110.0</td>\n",
              "    </tr>\n",
              "    <tr>\n",
              "      <th>678</th>\n",
              "      <td>3/12/2021</td>\n",
              "      <td>5551</td>\n",
              "      <td>23</td>\n",
              "      <td>5301</td>\n",
              "      <td>62303</td>\n",
              "      <td>179</td>\n",
              "      <td>1312</td>\n",
              "      <td>46</td>\n",
              "      <td>4046</td>\n",
              "      <td>147</td>\n",
              "      <td>...</td>\n",
              "      <td>411</td>\n",
              "      <td>167</td>\n",
              "      <td>48</td>\n",
              "      <td>0.0</td>\n",
              "      <td>6.0</td>\n",
              "      <td>0.0</td>\n",
              "      <td>3.0</td>\n",
              "      <td>104.0</td>\n",
              "      <td>0.0</td>\n",
              "      <td>66.0</td>\n",
              "    </tr>\n",
              "    <tr>\n",
              "      <th>679</th>\n",
              "      <td>4/12/2021</td>\n",
              "      <td>4896</td>\n",
              "      <td>18</td>\n",
              "      <td>4676</td>\n",
              "      <td>62481</td>\n",
              "      <td>159</td>\n",
              "      <td>1143</td>\n",
              "      <td>56</td>\n",
              "      <td>3529</td>\n",
              "      <td>168</td>\n",
              "      <td>...</td>\n",
              "      <td>327</td>\n",
              "      <td>158</td>\n",
              "      <td>52</td>\n",
              "      <td>0.0</td>\n",
              "      <td>3.0</td>\n",
              "      <td>1.0</td>\n",
              "      <td>22.0</td>\n",
              "      <td>52.0</td>\n",
              "      <td>0.0</td>\n",
              "      <td>81.0</td>\n",
              "    </tr>\n",
              "  </tbody>\n",
              "</table>\n",
              "<p>5 rows × 31 columns</p>\n",
              "</div>\n",
              "      <button class=\"colab-df-convert\" onclick=\"convertToInteractive('df-d280c45a-841e-4751-aac1-e66727dd57e6')\"\n",
              "              title=\"Convert this dataframe to an interactive table.\"\n",
              "              style=\"display:none;\">\n",
              "        \n",
              "  <svg xmlns=\"http://www.w3.org/2000/svg\" height=\"24px\"viewBox=\"0 0 24 24\"\n",
              "       width=\"24px\">\n",
              "    <path d=\"M0 0h24v24H0V0z\" fill=\"none\"/>\n",
              "    <path d=\"M18.56 5.44l.94 2.06.94-2.06 2.06-.94-2.06-.94-.94-2.06-.94 2.06-2.06.94zm-11 1L8.5 8.5l.94-2.06 2.06-.94-2.06-.94L8.5 2.5l-.94 2.06-2.06.94zm10 10l.94 2.06.94-2.06 2.06-.94-2.06-.94-.94-2.06-.94 2.06-2.06.94z\"/><path d=\"M17.41 7.96l-1.37-1.37c-.4-.4-.92-.59-1.43-.59-.52 0-1.04.2-1.43.59L10.3 9.45l-7.72 7.72c-.78.78-.78 2.05 0 2.83L4 21.41c.39.39.9.59 1.41.59.51 0 1.02-.2 1.41-.59l7.78-7.78 2.81-2.81c.8-.78.8-2.07 0-2.86zM5.41 20L4 18.59l7.72-7.72 1.47 1.35L5.41 20z\"/>\n",
              "  </svg>\n",
              "      </button>\n",
              "      \n",
              "  <style>\n",
              "    .colab-df-container {\n",
              "      display:flex;\n",
              "      flex-wrap:wrap;\n",
              "      gap: 12px;\n",
              "    }\n",
              "\n",
              "    .colab-df-convert {\n",
              "      background-color: #E8F0FE;\n",
              "      border: none;\n",
              "      border-radius: 50%;\n",
              "      cursor: pointer;\n",
              "      display: none;\n",
              "      fill: #1967D2;\n",
              "      height: 32px;\n",
              "      padding: 0 0 0 0;\n",
              "      width: 32px;\n",
              "    }\n",
              "\n",
              "    .colab-df-convert:hover {\n",
              "      background-color: #E2EBFA;\n",
              "      box-shadow: 0px 1px 2px rgba(60, 64, 67, 0.3), 0px 1px 3px 1px rgba(60, 64, 67, 0.15);\n",
              "      fill: #174EA6;\n",
              "    }\n",
              "\n",
              "    [theme=dark] .colab-df-convert {\n",
              "      background-color: #3B4455;\n",
              "      fill: #D2E3FC;\n",
              "    }\n",
              "\n",
              "    [theme=dark] .colab-df-convert:hover {\n",
              "      background-color: #434B5C;\n",
              "      box-shadow: 0px 1px 3px 1px rgba(0, 0, 0, 0.15);\n",
              "      filter: drop-shadow(0px 1px 2px rgba(0, 0, 0, 0.3));\n",
              "      fill: #FFFFFF;\n",
              "    }\n",
              "  </style>\n",
              "\n",
              "      <script>\n",
              "        const buttonEl =\n",
              "          document.querySelector('#df-d280c45a-841e-4751-aac1-e66727dd57e6 button.colab-df-convert');\n",
              "        buttonEl.style.display =\n",
              "          google.colab.kernel.accessAllowed ? 'block' : 'none';\n",
              "\n",
              "        async function convertToInteractive(key) {\n",
              "          const element = document.querySelector('#df-d280c45a-841e-4751-aac1-e66727dd57e6');\n",
              "          const dataTable =\n",
              "            await google.colab.kernel.invokeFunction('convertToInteractive',\n",
              "                                                     [key], {});\n",
              "          if (!dataTable) return;\n",
              "\n",
              "          const docLinkHtml = 'Like what you see? Visit the ' +\n",
              "            '<a target=\"_blank\" href=https://colab.research.google.com/notebooks/data_table.ipynb>data table notebook</a>'\n",
              "            + ' to learn more about interactive tables.';\n",
              "          element.innerHTML = '';\n",
              "          dataTable['output_type'] = 'display_data';\n",
              "          await google.colab.output.renderOutput(dataTable, element);\n",
              "          const docLink = document.createElement('div');\n",
              "          docLink.innerHTML = docLinkHtml;\n",
              "          element.appendChild(docLink);\n",
              "        }\n",
              "      </script>\n",
              "    </div>\n",
              "  </div>\n",
              "  "
            ]
          },
          "metadata": {},
          "execution_count": 3
        }
      ]
    },
    {
      "cell_type": "code",
      "source": [
        "train_df.info()     # cases_new is in object (Need to be converted into int/float)\n",
        "train_df.describe().T"
      ],
      "metadata": {
        "colab": {
          "base_uri": "https://localhost:8080/",
          "height": 1000
        },
        "id": "wjrQjYDUPlqB",
        "outputId": "64f28c0f-24e4-472e-f3f6-5858b853aaa1"
      },
      "execution_count": null,
      "outputs": [
        {
          "output_type": "stream",
          "name": "stdout",
          "text": [
            "<class 'pandas.core.frame.DataFrame'>\n",
            "RangeIndex: 680 entries, 0 to 679\n",
            "Data columns (total 31 columns):\n",
            " #   Column                   Non-Null Count  Dtype  \n",
            "---  ------                   --------------  -----  \n",
            " 0   date                     680 non-null    object \n",
            " 1   cases_new                680 non-null    object \n",
            " 2   cases_import             680 non-null    int64  \n",
            " 3   cases_recovered          680 non-null    int64  \n",
            " 4   cases_active             680 non-null    int64  \n",
            " 5   cases_cluster            680 non-null    int64  \n",
            " 6   cases_unvax              680 non-null    int64  \n",
            " 7   cases_pvax               680 non-null    int64  \n",
            " 8   cases_fvax               680 non-null    int64  \n",
            " 9   cases_boost              680 non-null    int64  \n",
            " 10  cases_child              680 non-null    int64  \n",
            " 11  cases_adolescent         680 non-null    int64  \n",
            " 12  cases_adult              680 non-null    int64  \n",
            " 13  cases_elderly            680 non-null    int64  \n",
            " 14  cases_0_4                680 non-null    int64  \n",
            " 15  cases_5_11               680 non-null    int64  \n",
            " 16  cases_12_17              680 non-null    int64  \n",
            " 17  cases_18_29              680 non-null    int64  \n",
            " 18  cases_30_39              680 non-null    int64  \n",
            " 19  cases_40_49              680 non-null    int64  \n",
            " 20  cases_50_59              680 non-null    int64  \n",
            " 21  cases_60_69              680 non-null    int64  \n",
            " 22  cases_70_79              680 non-null    int64  \n",
            " 23  cases_80                 680 non-null    int64  \n",
            " 24  cluster_import           338 non-null    float64\n",
            " 25  cluster_religious        338 non-null    float64\n",
            " 26  cluster_community        338 non-null    float64\n",
            " 27  cluster_highRisk         338 non-null    float64\n",
            " 28  cluster_education        338 non-null    float64\n",
            " 29  cluster_detentionCentre  338 non-null    float64\n",
            " 30  cluster_workplace        338 non-null    float64\n",
            "dtypes: float64(7), int64(22), object(2)\n",
            "memory usage: 164.8+ KB\n"
          ]
        },
        {
          "output_type": "execute_result",
          "data": {
            "text/plain": [
              "                         count          mean           std   min      25%  \\\n",
              "cases_import             680.0      8.788235      9.162540   0.0     3.00   \n",
              "cases_recovered          680.0   3766.514706   5622.296192   0.0    46.50   \n",
              "cases_active             680.0  45733.016176  67888.984001   1.0  1158.25   \n",
              "cases_cluster            680.0    717.130882    827.327827   0.0    13.00   \n",
              "cases_unvax              680.0   2452.023529   3191.392812   0.0    46.50   \n",
              "cases_pvax               680.0    578.805882   1532.323940   0.0     0.00   \n",
              "cases_fvax               680.0    868.045588   1877.386774   0.0     0.00   \n",
              "cases_boost              680.0      4.763235     21.433285   0.0     0.00   \n",
              "cases_child              680.0    519.935294    831.685231   0.0     2.00   \n",
              "cases_adolescent         680.0    261.016176    433.549560   0.0     2.00   \n",
              "cases_adult              680.0   2670.452941   3795.556574   0.0    33.00   \n",
              "cases_elderly            680.0    343.726471    488.993534   0.0     3.00   \n",
              "cases_0_4                680.0    207.050000    332.737794   0.0     1.00   \n",
              "cases_5_11               680.0    312.885294    499.529379   0.0     1.00   \n",
              "cases_12_17              680.0    261.016176    433.549560   0.0     2.00   \n",
              "cases_18_29              680.0   1011.152941   1450.960782   0.0    14.00   \n",
              "cases_30_39              680.0    820.333824   1143.888922   0.0     8.00   \n",
              "cases_40_49              680.0    494.485294    720.950761   0.0     5.00   \n",
              "cases_50_59              680.0    344.480882    489.615177   0.0     3.00   \n",
              "cases_60_69              680.0    220.439706    309.611661   0.0     2.00   \n",
              "cases_70_79              680.0     90.754412    132.294880   0.0     1.00   \n",
              "cases_80                 680.0     32.529412     48.930226   0.0     0.00   \n",
              "cluster_import           338.0      0.387574      3.441856   0.0     0.00   \n",
              "cluster_religious        338.0     24.988166     58.327835   0.0     0.00   \n",
              "cluster_community        338.0    214.372781    189.719980   0.0    64.00   \n",
              "cluster_highRisk         338.0     28.544379     31.852769   0.0     4.00   \n",
              "cluster_education        338.0     38.594675     67.309716   0.0     1.00   \n",
              "cluster_detentionCentre  338.0     65.174556     77.725277   0.0     5.00   \n",
              "cluster_workplace        338.0    670.340237    491.416024  31.0   227.75   \n",
              "\n",
              "                             50%       75%       max  \n",
              "cases_import                 6.0     12.00      72.0  \n",
              "cases_recovered           1201.5   5173.50   24855.0  \n",
              "cases_active             14371.0  64899.25  263845.0  \n",
              "cases_cluster              417.5   1117.75    3394.0  \n",
              "cases_unvax               1257.5   3462.50   12684.0  \n",
              "cases_pvax                   0.0    118.25    7313.0  \n",
              "cases_fvax                   0.0    116.50    8456.0  \n",
              "cases_boost                  0.0      0.00     170.0  \n",
              "cases_child                109.0    754.25    3437.0  \n",
              "cases_adolescent            63.0    304.00    1820.0  \n",
              "cases_adult               1050.0   3669.00   16450.0  \n",
              "cases_elderly               80.5    578.25    1986.0  \n",
              "cases_0_4                   41.5    298.50    1362.0  \n",
              "cases_5_11                  66.0    454.50    2091.0  \n",
              "cases_12_17                 63.0    304.00    1820.0  \n",
              "cases_18_29                415.5   1280.25    6374.0  \n",
              "cases_30_39                354.5   1159.00    4922.0  \n",
              "cases_40_49                174.0    681.75    3132.0  \n",
              "cases_50_59                103.0    523.00    2066.0  \n",
              "cases_60_69                 57.0    368.25    1231.0  \n",
              "cases_70_79                 18.0    149.25     581.0  \n",
              "cases_80                     6.0     50.25     210.0  \n",
              "cluster_import               0.0      0.00      54.0  \n",
              "cluster_religious            5.0     18.00     359.0  \n",
              "cluster_community          148.0    312.00     825.0  \n",
              "cluster_highRisk            16.5     42.00     189.0  \n",
              "cluster_education           16.5     41.00     501.0  \n",
              "cluster_detentionCentre     42.5     92.75     439.0  \n",
              "cluster_workplace          560.0   1078.50    2338.0  "
            ],
            "text/html": [
              "\n",
              "  <div id=\"df-ac5ced0e-5f4c-4982-8fd3-bf07af7adacc\">\n",
              "    <div class=\"colab-df-container\">\n",
              "      <div>\n",
              "<style scoped>\n",
              "    .dataframe tbody tr th:only-of-type {\n",
              "        vertical-align: middle;\n",
              "    }\n",
              "\n",
              "    .dataframe tbody tr th {\n",
              "        vertical-align: top;\n",
              "    }\n",
              "\n",
              "    .dataframe thead th {\n",
              "        text-align: right;\n",
              "    }\n",
              "</style>\n",
              "<table border=\"1\" class=\"dataframe\">\n",
              "  <thead>\n",
              "    <tr style=\"text-align: right;\">\n",
              "      <th></th>\n",
              "      <th>count</th>\n",
              "      <th>mean</th>\n",
              "      <th>std</th>\n",
              "      <th>min</th>\n",
              "      <th>25%</th>\n",
              "      <th>50%</th>\n",
              "      <th>75%</th>\n",
              "      <th>max</th>\n",
              "    </tr>\n",
              "  </thead>\n",
              "  <tbody>\n",
              "    <tr>\n",
              "      <th>cases_import</th>\n",
              "      <td>680.0</td>\n",
              "      <td>8.788235</td>\n",
              "      <td>9.162540</td>\n",
              "      <td>0.0</td>\n",
              "      <td>3.00</td>\n",
              "      <td>6.0</td>\n",
              "      <td>12.00</td>\n",
              "      <td>72.0</td>\n",
              "    </tr>\n",
              "    <tr>\n",
              "      <th>cases_recovered</th>\n",
              "      <td>680.0</td>\n",
              "      <td>3766.514706</td>\n",
              "      <td>5622.296192</td>\n",
              "      <td>0.0</td>\n",
              "      <td>46.50</td>\n",
              "      <td>1201.5</td>\n",
              "      <td>5173.50</td>\n",
              "      <td>24855.0</td>\n",
              "    </tr>\n",
              "    <tr>\n",
              "      <th>cases_active</th>\n",
              "      <td>680.0</td>\n",
              "      <td>45733.016176</td>\n",
              "      <td>67888.984001</td>\n",
              "      <td>1.0</td>\n",
              "      <td>1158.25</td>\n",
              "      <td>14371.0</td>\n",
              "      <td>64899.25</td>\n",
              "      <td>263845.0</td>\n",
              "    </tr>\n",
              "    <tr>\n",
              "      <th>cases_cluster</th>\n",
              "      <td>680.0</td>\n",
              "      <td>717.130882</td>\n",
              "      <td>827.327827</td>\n",
              "      <td>0.0</td>\n",
              "      <td>13.00</td>\n",
              "      <td>417.5</td>\n",
              "      <td>1117.75</td>\n",
              "      <td>3394.0</td>\n",
              "    </tr>\n",
              "    <tr>\n",
              "      <th>cases_unvax</th>\n",
              "      <td>680.0</td>\n",
              "      <td>2452.023529</td>\n",
              "      <td>3191.392812</td>\n",
              "      <td>0.0</td>\n",
              "      <td>46.50</td>\n",
              "      <td>1257.5</td>\n",
              "      <td>3462.50</td>\n",
              "      <td>12684.0</td>\n",
              "    </tr>\n",
              "    <tr>\n",
              "      <th>cases_pvax</th>\n",
              "      <td>680.0</td>\n",
              "      <td>578.805882</td>\n",
              "      <td>1532.323940</td>\n",
              "      <td>0.0</td>\n",
              "      <td>0.00</td>\n",
              "      <td>0.0</td>\n",
              "      <td>118.25</td>\n",
              "      <td>7313.0</td>\n",
              "    </tr>\n",
              "    <tr>\n",
              "      <th>cases_fvax</th>\n",
              "      <td>680.0</td>\n",
              "      <td>868.045588</td>\n",
              "      <td>1877.386774</td>\n",
              "      <td>0.0</td>\n",
              "      <td>0.00</td>\n",
              "      <td>0.0</td>\n",
              "      <td>116.50</td>\n",
              "      <td>8456.0</td>\n",
              "    </tr>\n",
              "    <tr>\n",
              "      <th>cases_boost</th>\n",
              "      <td>680.0</td>\n",
              "      <td>4.763235</td>\n",
              "      <td>21.433285</td>\n",
              "      <td>0.0</td>\n",
              "      <td>0.00</td>\n",
              "      <td>0.0</td>\n",
              "      <td>0.00</td>\n",
              "      <td>170.0</td>\n",
              "    </tr>\n",
              "    <tr>\n",
              "      <th>cases_child</th>\n",
              "      <td>680.0</td>\n",
              "      <td>519.935294</td>\n",
              "      <td>831.685231</td>\n",
              "      <td>0.0</td>\n",
              "      <td>2.00</td>\n",
              "      <td>109.0</td>\n",
              "      <td>754.25</td>\n",
              "      <td>3437.0</td>\n",
              "    </tr>\n",
              "    <tr>\n",
              "      <th>cases_adolescent</th>\n",
              "      <td>680.0</td>\n",
              "      <td>261.016176</td>\n",
              "      <td>433.549560</td>\n",
              "      <td>0.0</td>\n",
              "      <td>2.00</td>\n",
              "      <td>63.0</td>\n",
              "      <td>304.00</td>\n",
              "      <td>1820.0</td>\n",
              "    </tr>\n",
              "    <tr>\n",
              "      <th>cases_adult</th>\n",
              "      <td>680.0</td>\n",
              "      <td>2670.452941</td>\n",
              "      <td>3795.556574</td>\n",
              "      <td>0.0</td>\n",
              "      <td>33.00</td>\n",
              "      <td>1050.0</td>\n",
              "      <td>3669.00</td>\n",
              "      <td>16450.0</td>\n",
              "    </tr>\n",
              "    <tr>\n",
              "      <th>cases_elderly</th>\n",
              "      <td>680.0</td>\n",
              "      <td>343.726471</td>\n",
              "      <td>488.993534</td>\n",
              "      <td>0.0</td>\n",
              "      <td>3.00</td>\n",
              "      <td>80.5</td>\n",
              "      <td>578.25</td>\n",
              "      <td>1986.0</td>\n",
              "    </tr>\n",
              "    <tr>\n",
              "      <th>cases_0_4</th>\n",
              "      <td>680.0</td>\n",
              "      <td>207.050000</td>\n",
              "      <td>332.737794</td>\n",
              "      <td>0.0</td>\n",
              "      <td>1.00</td>\n",
              "      <td>41.5</td>\n",
              "      <td>298.50</td>\n",
              "      <td>1362.0</td>\n",
              "    </tr>\n",
              "    <tr>\n",
              "      <th>cases_5_11</th>\n",
              "      <td>680.0</td>\n",
              "      <td>312.885294</td>\n",
              "      <td>499.529379</td>\n",
              "      <td>0.0</td>\n",
              "      <td>1.00</td>\n",
              "      <td>66.0</td>\n",
              "      <td>454.50</td>\n",
              "      <td>2091.0</td>\n",
              "    </tr>\n",
              "    <tr>\n",
              "      <th>cases_12_17</th>\n",
              "      <td>680.0</td>\n",
              "      <td>261.016176</td>\n",
              "      <td>433.549560</td>\n",
              "      <td>0.0</td>\n",
              "      <td>2.00</td>\n",
              "      <td>63.0</td>\n",
              "      <td>304.00</td>\n",
              "      <td>1820.0</td>\n",
              "    </tr>\n",
              "    <tr>\n",
              "      <th>cases_18_29</th>\n",
              "      <td>680.0</td>\n",
              "      <td>1011.152941</td>\n",
              "      <td>1450.960782</td>\n",
              "      <td>0.0</td>\n",
              "      <td>14.00</td>\n",
              "      <td>415.5</td>\n",
              "      <td>1280.25</td>\n",
              "      <td>6374.0</td>\n",
              "    </tr>\n",
              "    <tr>\n",
              "      <th>cases_30_39</th>\n",
              "      <td>680.0</td>\n",
              "      <td>820.333824</td>\n",
              "      <td>1143.888922</td>\n",
              "      <td>0.0</td>\n",
              "      <td>8.00</td>\n",
              "      <td>354.5</td>\n",
              "      <td>1159.00</td>\n",
              "      <td>4922.0</td>\n",
              "    </tr>\n",
              "    <tr>\n",
              "      <th>cases_40_49</th>\n",
              "      <td>680.0</td>\n",
              "      <td>494.485294</td>\n",
              "      <td>720.950761</td>\n",
              "      <td>0.0</td>\n",
              "      <td>5.00</td>\n",
              "      <td>174.0</td>\n",
              "      <td>681.75</td>\n",
              "      <td>3132.0</td>\n",
              "    </tr>\n",
              "    <tr>\n",
              "      <th>cases_50_59</th>\n",
              "      <td>680.0</td>\n",
              "      <td>344.480882</td>\n",
              "      <td>489.615177</td>\n",
              "      <td>0.0</td>\n",
              "      <td>3.00</td>\n",
              "      <td>103.0</td>\n",
              "      <td>523.00</td>\n",
              "      <td>2066.0</td>\n",
              "    </tr>\n",
              "    <tr>\n",
              "      <th>cases_60_69</th>\n",
              "      <td>680.0</td>\n",
              "      <td>220.439706</td>\n",
              "      <td>309.611661</td>\n",
              "      <td>0.0</td>\n",
              "      <td>2.00</td>\n",
              "      <td>57.0</td>\n",
              "      <td>368.25</td>\n",
              "      <td>1231.0</td>\n",
              "    </tr>\n",
              "    <tr>\n",
              "      <th>cases_70_79</th>\n",
              "      <td>680.0</td>\n",
              "      <td>90.754412</td>\n",
              "      <td>132.294880</td>\n",
              "      <td>0.0</td>\n",
              "      <td>1.00</td>\n",
              "      <td>18.0</td>\n",
              "      <td>149.25</td>\n",
              "      <td>581.0</td>\n",
              "    </tr>\n",
              "    <tr>\n",
              "      <th>cases_80</th>\n",
              "      <td>680.0</td>\n",
              "      <td>32.529412</td>\n",
              "      <td>48.930226</td>\n",
              "      <td>0.0</td>\n",
              "      <td>0.00</td>\n",
              "      <td>6.0</td>\n",
              "      <td>50.25</td>\n",
              "      <td>210.0</td>\n",
              "    </tr>\n",
              "    <tr>\n",
              "      <th>cluster_import</th>\n",
              "      <td>338.0</td>\n",
              "      <td>0.387574</td>\n",
              "      <td>3.441856</td>\n",
              "      <td>0.0</td>\n",
              "      <td>0.00</td>\n",
              "      <td>0.0</td>\n",
              "      <td>0.00</td>\n",
              "      <td>54.0</td>\n",
              "    </tr>\n",
              "    <tr>\n",
              "      <th>cluster_religious</th>\n",
              "      <td>338.0</td>\n",
              "      <td>24.988166</td>\n",
              "      <td>58.327835</td>\n",
              "      <td>0.0</td>\n",
              "      <td>0.00</td>\n",
              "      <td>5.0</td>\n",
              "      <td>18.00</td>\n",
              "      <td>359.0</td>\n",
              "    </tr>\n",
              "    <tr>\n",
              "      <th>cluster_community</th>\n",
              "      <td>338.0</td>\n",
              "      <td>214.372781</td>\n",
              "      <td>189.719980</td>\n",
              "      <td>0.0</td>\n",
              "      <td>64.00</td>\n",
              "      <td>148.0</td>\n",
              "      <td>312.00</td>\n",
              "      <td>825.0</td>\n",
              "    </tr>\n",
              "    <tr>\n",
              "      <th>cluster_highRisk</th>\n",
              "      <td>338.0</td>\n",
              "      <td>28.544379</td>\n",
              "      <td>31.852769</td>\n",
              "      <td>0.0</td>\n",
              "      <td>4.00</td>\n",
              "      <td>16.5</td>\n",
              "      <td>42.00</td>\n",
              "      <td>189.0</td>\n",
              "    </tr>\n",
              "    <tr>\n",
              "      <th>cluster_education</th>\n",
              "      <td>338.0</td>\n",
              "      <td>38.594675</td>\n",
              "      <td>67.309716</td>\n",
              "      <td>0.0</td>\n",
              "      <td>1.00</td>\n",
              "      <td>16.5</td>\n",
              "      <td>41.00</td>\n",
              "      <td>501.0</td>\n",
              "    </tr>\n",
              "    <tr>\n",
              "      <th>cluster_detentionCentre</th>\n",
              "      <td>338.0</td>\n",
              "      <td>65.174556</td>\n",
              "      <td>77.725277</td>\n",
              "      <td>0.0</td>\n",
              "      <td>5.00</td>\n",
              "      <td>42.5</td>\n",
              "      <td>92.75</td>\n",
              "      <td>439.0</td>\n",
              "    </tr>\n",
              "    <tr>\n",
              "      <th>cluster_workplace</th>\n",
              "      <td>338.0</td>\n",
              "      <td>670.340237</td>\n",
              "      <td>491.416024</td>\n",
              "      <td>31.0</td>\n",
              "      <td>227.75</td>\n",
              "      <td>560.0</td>\n",
              "      <td>1078.50</td>\n",
              "      <td>2338.0</td>\n",
              "    </tr>\n",
              "  </tbody>\n",
              "</table>\n",
              "</div>\n",
              "      <button class=\"colab-df-convert\" onclick=\"convertToInteractive('df-ac5ced0e-5f4c-4982-8fd3-bf07af7adacc')\"\n",
              "              title=\"Convert this dataframe to an interactive table.\"\n",
              "              style=\"display:none;\">\n",
              "        \n",
              "  <svg xmlns=\"http://www.w3.org/2000/svg\" height=\"24px\"viewBox=\"0 0 24 24\"\n",
              "       width=\"24px\">\n",
              "    <path d=\"M0 0h24v24H0V0z\" fill=\"none\"/>\n",
              "    <path d=\"M18.56 5.44l.94 2.06.94-2.06 2.06-.94-2.06-.94-.94-2.06-.94 2.06-2.06.94zm-11 1L8.5 8.5l.94-2.06 2.06-.94-2.06-.94L8.5 2.5l-.94 2.06-2.06.94zm10 10l.94 2.06.94-2.06 2.06-.94-2.06-.94-.94-2.06-.94 2.06-2.06.94z\"/><path d=\"M17.41 7.96l-1.37-1.37c-.4-.4-.92-.59-1.43-.59-.52 0-1.04.2-1.43.59L10.3 9.45l-7.72 7.72c-.78.78-.78 2.05 0 2.83L4 21.41c.39.39.9.59 1.41.59.51 0 1.02-.2 1.41-.59l7.78-7.78 2.81-2.81c.8-.78.8-2.07 0-2.86zM5.41 20L4 18.59l7.72-7.72 1.47 1.35L5.41 20z\"/>\n",
              "  </svg>\n",
              "      </button>\n",
              "      \n",
              "  <style>\n",
              "    .colab-df-container {\n",
              "      display:flex;\n",
              "      flex-wrap:wrap;\n",
              "      gap: 12px;\n",
              "    }\n",
              "\n",
              "    .colab-df-convert {\n",
              "      background-color: #E8F0FE;\n",
              "      border: none;\n",
              "      border-radius: 50%;\n",
              "      cursor: pointer;\n",
              "      display: none;\n",
              "      fill: #1967D2;\n",
              "      height: 32px;\n",
              "      padding: 0 0 0 0;\n",
              "      width: 32px;\n",
              "    }\n",
              "\n",
              "    .colab-df-convert:hover {\n",
              "      background-color: #E2EBFA;\n",
              "      box-shadow: 0px 1px 2px rgba(60, 64, 67, 0.3), 0px 1px 3px 1px rgba(60, 64, 67, 0.15);\n",
              "      fill: #174EA6;\n",
              "    }\n",
              "\n",
              "    [theme=dark] .colab-df-convert {\n",
              "      background-color: #3B4455;\n",
              "      fill: #D2E3FC;\n",
              "    }\n",
              "\n",
              "    [theme=dark] .colab-df-convert:hover {\n",
              "      background-color: #434B5C;\n",
              "      box-shadow: 0px 1px 3px 1px rgba(0, 0, 0, 0.15);\n",
              "      filter: drop-shadow(0px 1px 2px rgba(0, 0, 0, 0.3));\n",
              "      fill: #FFFFFF;\n",
              "    }\n",
              "  </style>\n",
              "\n",
              "      <script>\n",
              "        const buttonEl =\n",
              "          document.querySelector('#df-ac5ced0e-5f4c-4982-8fd3-bf07af7adacc button.colab-df-convert');\n",
              "        buttonEl.style.display =\n",
              "          google.colab.kernel.accessAllowed ? 'block' : 'none';\n",
              "\n",
              "        async function convertToInteractive(key) {\n",
              "          const element = document.querySelector('#df-ac5ced0e-5f4c-4982-8fd3-bf07af7adacc');\n",
              "          const dataTable =\n",
              "            await google.colab.kernel.invokeFunction('convertToInteractive',\n",
              "                                                     [key], {});\n",
              "          if (!dataTable) return;\n",
              "\n",
              "          const docLinkHtml = 'Like what you see? Visit the ' +\n",
              "            '<a target=\"_blank\" href=https://colab.research.google.com/notebooks/data_table.ipynb>data table notebook</a>'\n",
              "            + ' to learn more about interactive tables.';\n",
              "          element.innerHTML = '';\n",
              "          dataTable['output_type'] = 'display_data';\n",
              "          await google.colab.output.renderOutput(dataTable, element);\n",
              "          const docLink = document.createElement('div');\n",
              "          docLink.innerHTML = docLinkHtml;\n",
              "          element.appendChild(docLink);\n",
              "        }\n",
              "      </script>\n",
              "    </div>\n",
              "  </div>\n",
              "  "
            ]
          },
          "metadata": {},
          "execution_count": 4
        }
      ]
    },
    {
      "cell_type": "code",
      "source": [
        "train_df.duplicated().sum() #No duplicated data found\n",
        "train_df.isnull().mean()"
      ],
      "metadata": {
        "colab": {
          "base_uri": "https://localhost:8080/"
        },
        "id": "kp9O-YAZ-rXT",
        "outputId": "4acd3118-859c-447c-e57b-fda226205a36"
      },
      "execution_count": null,
      "outputs": [
        {
          "output_type": "execute_result",
          "data": {
            "text/plain": [
              "date                       0.000000\n",
              "cases_new                  0.000000\n",
              "cases_import               0.000000\n",
              "cases_recovered            0.000000\n",
              "cases_active               0.000000\n",
              "cases_cluster              0.000000\n",
              "cases_unvax                0.000000\n",
              "cases_pvax                 0.000000\n",
              "cases_fvax                 0.000000\n",
              "cases_boost                0.000000\n",
              "cases_child                0.000000\n",
              "cases_adolescent           0.000000\n",
              "cases_adult                0.000000\n",
              "cases_elderly              0.000000\n",
              "cases_0_4                  0.000000\n",
              "cases_5_11                 0.000000\n",
              "cases_12_17                0.000000\n",
              "cases_18_29                0.000000\n",
              "cases_30_39                0.000000\n",
              "cases_40_49                0.000000\n",
              "cases_50_59                0.000000\n",
              "cases_60_69                0.000000\n",
              "cases_70_79                0.000000\n",
              "cases_80                   0.000000\n",
              "cluster_import             0.502941\n",
              "cluster_religious          0.502941\n",
              "cluster_community          0.502941\n",
              "cluster_highRisk           0.502941\n",
              "cluster_education          0.502941\n",
              "cluster_detentionCentre    0.502941\n",
              "cluster_workplace          0.502941\n",
              "dtype: float64"
            ]
          },
          "metadata": {},
          "execution_count": 5
        }
      ]
    },
    {
      "cell_type": "code",
      "source": [
        "#%% Data cleaning\n",
        "\n",
        "# Change data types\n",
        "train_df['cases_new'] = train_df['cases_new'].str.replace(r'[^0-9a-zA-Z:,]+', '')\n",
        "train_df['cases_new'] = train_df['cases_new'].replace(r'^\\s*$', np.NaN, regex=True)\n",
        "train_df['cases_new'] = train_df['cases_new'].astype('float')\n",
        "train_df.info()"
      ],
      "metadata": {
        "colab": {
          "base_uri": "https://localhost:8080/"
        },
        "id": "zfG7kAPDMhRH",
        "outputId": "32bf0d60-4be7-4faf-9a5e-0e0e79f289b2"
      },
      "execution_count": null,
      "outputs": [
        {
          "output_type": "stream",
          "name": "stdout",
          "text": [
            "<class 'pandas.core.frame.DataFrame'>\n",
            "RangeIndex: 680 entries, 0 to 679\n",
            "Data columns (total 31 columns):\n",
            " #   Column                   Non-Null Count  Dtype  \n",
            "---  ------                   --------------  -----  \n",
            " 0   date                     680 non-null    object \n",
            " 1   cases_new                668 non-null    float64\n",
            " 2   cases_import             680 non-null    int64  \n",
            " 3   cases_recovered          680 non-null    int64  \n",
            " 4   cases_active             680 non-null    int64  \n",
            " 5   cases_cluster            680 non-null    int64  \n",
            " 6   cases_unvax              680 non-null    int64  \n",
            " 7   cases_pvax               680 non-null    int64  \n",
            " 8   cases_fvax               680 non-null    int64  \n",
            " 9   cases_boost              680 non-null    int64  \n",
            " 10  cases_child              680 non-null    int64  \n",
            " 11  cases_adolescent         680 non-null    int64  \n",
            " 12  cases_adult              680 non-null    int64  \n",
            " 13  cases_elderly            680 non-null    int64  \n",
            " 14  cases_0_4                680 non-null    int64  \n",
            " 15  cases_5_11               680 non-null    int64  \n",
            " 16  cases_12_17              680 non-null    int64  \n",
            " 17  cases_18_29              680 non-null    int64  \n",
            " 18  cases_30_39              680 non-null    int64  \n",
            " 19  cases_40_49              680 non-null    int64  \n",
            " 20  cases_50_59              680 non-null    int64  \n",
            " 21  cases_60_69              680 non-null    int64  \n",
            " 22  cases_70_79              680 non-null    int64  \n",
            " 23  cases_80                 680 non-null    int64  \n",
            " 24  cluster_import           338 non-null    float64\n",
            " 25  cluster_religious        338 non-null    float64\n",
            " 26  cluster_community        338 non-null    float64\n",
            " 27  cluster_highRisk         338 non-null    float64\n",
            " 28  cluster_education        338 non-null    float64\n",
            " 29  cluster_detentionCentre  338 non-null    float64\n",
            " 30  cluster_workplace        338 non-null    float64\n",
            "dtypes: float64(8), int64(22), object(1)\n",
            "memory usage: 164.8+ KB\n"
          ]
        },
        {
          "output_type": "stream",
          "name": "stderr",
          "text": [
            "<ipython-input-6-2be206a0850e>:4: FutureWarning: The default value of regex will change from True to False in a future version.\n",
            "  train_df['cases_new'] = train_df['cases_new'].str.replace(r'[^0-9a-zA-Z:,]+', '')\n"
          ]
        }
      ]
    },
    {
      "cell_type": "code",
      "source": [
        "# Clean test_df\n",
        "\n",
        "test_df['cases_new'] = test_df['cases_new'].replace(r'[^0-9a-zA-Z:,]+', '')\n",
        "test_df['cases_new'] = test_df['cases_new'].replace(r'^\\s*$', np.NaN, regex=True)"
      ],
      "metadata": {
        "id": "slMENYv1-9Nw"
      },
      "execution_count": null,
      "outputs": []
    },
    {
      "cell_type": "code",
      "source": [
        "print(train_df['cases_new'].isnull().sum())"
      ],
      "metadata": {
        "colab": {
          "base_uri": "https://localhost:8080/"
        },
        "id": "oiddoa-KRyzG",
        "outputId": "344a38f2-3a21-419f-caea-dd7307e08735"
      },
      "execution_count": null,
      "outputs": [
        {
          "output_type": "stream",
          "name": "stdout",
          "text": [
            "12\n"
          ]
        }
      ]
    },
    {
      "cell_type": "code",
      "source": [
        "# Deal with the null values\n",
        "\n",
        "train_df['cases_new'] = train_df['cases_new'].fillna(0)\n",
        "train_df['cases_new'] = train_df['cases_new'].interpolate(method='polynomial', order=2)\n",
        "test_df['cases_new'] = test_df['cases_new'].fillna(0)"
      ],
      "metadata": {
        "id": "ACq36MZwSFP0"
      },
      "execution_count": null,
      "outputs": []
    },
    {
      "cell_type": "code",
      "source": [
        "print(train_df.isna().sum()) # Checking if the null values are still there"
      ],
      "metadata": {
        "colab": {
          "base_uri": "https://localhost:8080/"
        },
        "id": "e9fMgH62Vihi",
        "outputId": "59d836b3-ee0b-4364-adab-9a29a1aa42a1"
      },
      "execution_count": null,
      "outputs": [
        {
          "output_type": "stream",
          "name": "stdout",
          "text": [
            "date                         0\n",
            "cases_new                    0\n",
            "cases_import                 0\n",
            "cases_recovered              0\n",
            "cases_active                 0\n",
            "cases_cluster                0\n",
            "cases_unvax                  0\n",
            "cases_pvax                   0\n",
            "cases_fvax                   0\n",
            "cases_boost                  0\n",
            "cases_child                  0\n",
            "cases_adolescent             0\n",
            "cases_adult                  0\n",
            "cases_elderly                0\n",
            "cases_0_4                    0\n",
            "cases_5_11                   0\n",
            "cases_12_17                  0\n",
            "cases_18_29                  0\n",
            "cases_30_39                  0\n",
            "cases_40_49                  0\n",
            "cases_50_59                  0\n",
            "cases_60_69                  0\n",
            "cases_70_79                  0\n",
            "cases_80                     0\n",
            "cluster_import             342\n",
            "cluster_religious          342\n",
            "cluster_community          342\n",
            "cluster_highRisk           342\n",
            "cluster_education          342\n",
            "cluster_detentionCentre    342\n",
            "cluster_workplace          342\n",
            "dtype: int64\n"
          ]
        }
      ]
    },
    {
      "cell_type": "code",
      "source": [
        "# Plot new cases\n",
        "\n",
        "plt.figure(figsize=(20,10))\n",
        "plt.plot(train_df['date'], train_df['cases_new'], marker='o')\n",
        "plt.xticks(rotation=45)\n",
        "plt.xlabel('Date')\n",
        "plt.ylabel('New Cases (count)')\n",
        "plt.show()\n"
      ],
      "metadata": {
        "colab": {
          "base_uri": "https://localhost:8080/",
          "height": 630
        },
        "id": "C7oWyKk4Vl5S",
        "outputId": "ca984cd4-9613-4224-8c91-2de6a84781c8"
      },
      "execution_count": null,
      "outputs": [
        {
          "output_type": "display_data",
          "data": {
            "text/plain": [
              "<Figure size 1440x720 with 1 Axes>"
            ],
            "image/png": "[encoded data removed]"
          },
          "metadata": {
            "needs_background": "light"
          }
        }
      ]
    },
    {
      "cell_type": "code",
      "source": [
        "#%% Features Selection\n",
        "\n",
        "train_df['cases_new'].dtypes\n",
        "\n",
        "train_df = train_df['cases_new'].values\n",
        "\n",
        "mms = MinMaxScaler()\n",
        "train_df_scaled = mms.fit_transform(np.expand_dims(train_df, axis=-1)) # Expand dims"
      ],
      "metadata": {
        "id": "RS7IPaiKW9of"
      },
      "execution_count": null,
      "outputs": []
    },
    {
      "cell_type": "code",
      "source": [
        "X_train = []\n",
        "y_train = []\n",
        "\n",
        "win_size = 30\n",
        "for i in range(win_size,len(train_df_scaled)):\n",
        "    X_train.append(train_df_scaled[i-win_size:i])\n",
        "    y_train.append(train_df_scaled[i])\n",
        "X_train = np.array(X_train)\n",
        "y_train = np.array(y_train)"
      ],
      "metadata": {
        "id": "hpLgzsPhaJlp"
      },
      "execution_count": null,
      "outputs": []
    },
    {
      "cell_type": "code",
      "source": [
        "#%% Model development\n",
        "\n",
        "def LSTM_model():\n",
        "    \n",
        "    model = Sequential()\n",
        "    \n",
        "    model.add(LSTM(units = 64, return_sequences = True, input_shape=(X_train.shape[1:])))\n",
        "    model.add(Dropout(0.2))\n",
        "\n",
        "    model.add(LSTM(units = 64, return_sequences = True))\n",
        "    model.add(Dropout(0.2))\n",
        "\n",
        "    model.add(LSTM(units = 64))\n",
        "    model.add(Dropout(0.2))\n",
        "    \n",
        "    model.add(Dense(units=1))\n",
        "    \n",
        "    return model"
      ],
      "metadata": {
        "id": "dmSD4Jgzc6xI"
      },
      "execution_count": null,
      "outputs": []
    },
    {
      "cell_type": "code",
      "source": [
        "#%% Model Training\n",
        "\n",
        "model = LSTM_model()\n",
        "model.summary()\n",
        "model.compile(optimizer='adam',loss='mse',metrics=['mse','mape'])"
      ],
      "metadata": {
        "colab": {
          "base_uri": "https://localhost:8080/"
        },
        "id": "pU6L3YIOeTs9",
        "outputId": "0c9eba61-752d-4898-f8e0-4b35f2746ae5"
      },
      "execution_count": null,
      "outputs": [
        {
          "output_type": "stream",
          "name": "stdout",
          "text": [
            "Model: \"sequential\"\n",
            "_________________________________________________________________\n",
            " Layer (type)                Output Shape              Param #   \n",
            "=================================================================\n",
            " lstm (LSTM)                 (None, 30, 64)            16896     \n",
            "                                                                 \n",
            " dropout (Dropout)           (None, 30, 64)            0         \n",
            "                                                                 \n",
            " lstm_1 (LSTM)               (None, 30, 64)            33024     \n",
            "                                                                 \n",
            " dropout_1 (Dropout)         (None, 30, 64)            0         \n",
            "                                                                 \n",
            " lstm_2 (LSTM)               (None, 64)                33024     \n",
            "                                                                 \n",
            " dropout_2 (Dropout)         (None, 64)                0         \n",
            "                                                                 \n",
            " dense (Dense)               (None, 1)                 65        \n",
            "                                                                 \n",
            "=================================================================\n",
            "Total params: 83,009\n",
            "Trainable params: 83,009\n",
            "Non-trainable params: 0\n",
            "_________________________________________________________________\n"
          ]
        }
      ]
    },
    {
      "cell_type": "code",
      "source": [
        "plot_model(model, show_shapes=True, show_layer_names=True)"
      ],
      "metadata": {
        "colab": {
          "base_uri": "https://localhost:8080/",
          "height": 865
        },
        "id": "NjyMquF9Q3Pz",
        "outputId": "ae65a401-412e-43ed-966f-025440c9ffbb"
      },
      "execution_count": null,
      "outputs": [
        {
          "output_type": "execute_result",
          "data": {
            "image/png": "[encoded data removed]",
            "text/plain": [
              "<IPython.core.display.Image object>"
            ]
          },
          "metadata": {},
          "execution_count": 16
        }
      ]
    },
    {
      "cell_type": "code",
      "source": [
        "# Tensorboard callback \n",
        "%load_ext tensorboard\n",
        "\n",
        "LOGS_PATH = os.path.join(os.getcwd(),'logs',datetime.datetime.now().strftime('%Y%m%d-%H%M%S'))\n",
        "ts_callback = TensorBoard(log_dir=LOGS_PATH)\n",
        "es_callback = EarlyStopping(monitor='val_loss',patience=5,verbose=0,restore_best_weights=True)\n"
      ],
      "metadata": {
        "id": "sx1QTu95fBnC"
      },
      "execution_count": null,
      "outputs": []
    },
    {
      "cell_type": "code",
      "source": [
        "X_train, X_test, y_train,y_test = train_test_split(X_train,y_train,test_size=0.2,shuffle=True,random_state=123)"
      ],
      "metadata": {
        "id": "FOm-ZHhHdnjn"
      },
      "execution_count": null,
      "outputs": []
    },
    {
      "cell_type": "code",
      "source": [
        "# Fitting our model\n",
        "\n",
        "hist = model.fit(X_train,y_train,validation_data=(X_test,y_test),epochs=10, batch_size=64,callbacks=[es_callback,ts_callback])"
      ],
      "metadata": {
        "colab": {
          "base_uri": "https://localhost:8080/"
        },
        "id": "2Gb4TeOrj7WJ",
        "outputId": "ef34d2da-d8d0-46fc-c0a1-65c7f9c6e2b5"
      },
      "execution_count": null,
      "outputs": [
        {
          "output_type": "stream",
          "name": "stdout",
          "text": [
            "Epoch 1/10\n",
            "9/9 [==============================] - 12s 264ms/step - loss: 0.0396 - mse: 0.0396 - mape: 4854167.5000 - val_loss: 0.0109 - val_mse: 0.0109 - val_mape: 3685764.2500\n",
            "Epoch 2/10\n",
            "9/9 [==============================] - 1s 85ms/step - loss: 0.0111 - mse: 0.0111 - mape: 3233537.5000 - val_loss: 0.0051 - val_mse: 0.0051 - val_mape: 2345450.5000\n",
            "Epoch 3/10\n",
            "9/9 [==============================] - 1s 83ms/step - loss: 0.0099 - mse: 0.0099 - mape: 3717006.2500 - val_loss: 0.0087 - val_mse: 0.0087 - val_mape: 1914662.8750\n",
            "Epoch 4/10\n",
            "9/9 [==============================] - 1s 82ms/step - loss: 0.0082 - mse: 0.0082 - mape: 2886195.2500 - val_loss: 0.0050 - val_mse: 0.0050 - val_mape: 2937104.7500\n",
            "Epoch 5/10\n",
            "9/9 [==============================] - 1s 81ms/step - loss: 0.0066 - mse: 0.0066 - mape: 4239607.5000 - val_loss: 0.0041 - val_mse: 0.0041 - val_mape: 2474927.0000\n",
            "Epoch 6/10\n",
            "9/9 [==============================] - 1s 86ms/step - loss: 0.0063 - mse: 0.0063 - mape: 3404669.2500 - val_loss: 0.0039 - val_mse: 0.0039 - val_mape: 2357573.2500\n",
            "Epoch 7/10\n",
            "9/9 [==============================] - 1s 83ms/step - loss: 0.0056 - mse: 0.0056 - mape: 3659322.2500 - val_loss: 0.0041 - val_mse: 0.0041 - val_mape: 2306798.2500\n",
            "Epoch 8/10\n",
            "9/9 [==============================] - 1s 80ms/step - loss: 0.0058 - mse: 0.0058 - mape: 3352456.0000 - val_loss: 0.0036 - val_mse: 0.0036 - val_mape: 2509353.5000\n",
            "Epoch 9/10\n",
            "9/9 [==============================] - 1s 80ms/step - loss: 0.0048 - mse: 0.0048 - mape: 3657061.0000 - val_loss: 0.0033 - val_mse: 0.0033 - val_mape: 2315882.0000\n",
            "Epoch 10/10\n",
            "9/9 [==============================] - 1s 80ms/step - loss: 0.0047 - mse: 0.0047 - mape: 3584573.2500 - val_loss: 0.0033 - val_mse: 0.0033 - val_mape: 2126307.5000\n"
          ]
        }
      ]
    },
    {
      "cell_type": "code",
      "source": [
        "print(hist.history.keys())"
      ],
      "metadata": {
        "colab": {
          "base_uri": "https://localhost:8080/"
        },
        "id": "ceKNVXyLQK0_",
        "outputId": "d226940a-682c-4b40-a76e-d115cc338b01"
      },
      "execution_count": null,
      "outputs": [
        {
          "output_type": "stream",
          "name": "stdout",
          "text": [
            "dict_keys(['loss', 'mse', 'mape', 'val_loss', 'val_mse', 'val_mape'])\n"
          ]
        }
      ]
    },
    {
      "cell_type": "code",
      "source": [
        "%tensorboard --logdir logs"
      ],
      "metadata": {
        "colab": {
          "base_uri": "https://localhost:8080/",
          "height": 821
        },
        "id": "FUXwtNielJZ7",
        "outputId": "ec17d6ec-914a-4c73-bc99-68a4a0e83ff0"
      },
      "execution_count": null,
      "outputs": [
        {
          "output_type": "display_data",
          "data": {
            "text/plain": [
              "<IPython.core.display.Javascript object>"
            ],
            "application/javascript": [
              "\n",
              "        (async () => {\n",
              "            const url = new URL(await google.colab.kernel.proxyPort(6006, {'cache': true}));\n",
              "            url.searchParams.set('tensorboardColab', 'true');\n",
              "            const iframe = document.createElement('iframe');\n",
              "            iframe.src = url;\n",
              "            iframe.setAttribute('width', '100%');\n",
              "            iframe.setAttribute('height', '800');\n",
              "            iframe.setAttribute('frameborder', 0);\n",
              "            document.body.appendChild(iframe);\n",
              "        })();\n",
              "    "
            ]
          },
          "metadata": {}
        }
      ]
    },
    {
      "cell_type": "code",
      "source": [
        "test_df = test_df ['cases_new'].values\n",
        "test_df_scaled = mms.transform(test_df[::,None])"
      ],
      "metadata": {
        "id": "u_jjHxS9nkO5"
      },
      "execution_count": null,
      "outputs": []
    },
    {
      "cell_type": "code",
      "source": [
        "# Concat both train data and test data\n",
        "\n",
        "concatenated = np.concatenate((test_df_scaled,train_df_scaled))\n",
        "\n",
        "plt.figure()\n",
        "plt.plot(concatenated)\n",
        "plt.show()\n",
        "\n"
      ],
      "metadata": {
        "colab": {
          "base_uri": "https://localhost:8080/",
          "height": 266
        },
        "id": "nOHKGFDrn1bP",
        "outputId": "352639ce-bebf-4b49-c33c-25d0d80032cd"
      },
      "execution_count": null,
      "outputs": [
        {
          "output_type": "display_data",
          "data": {
            "text/plain": [
              "<Figure size 432x288 with 1 Axes>"
            ],
            "image/png": "[encoded data removed]"
          },
          "metadata": {
            "needs_background": "light"
          }
        }
      ]
    },
    {
      "cell_type": "code",
      "source": [
        "X_testtest = []\n",
        "y_testtest = []\n",
        "\n",
        "for i in range(win_size, len(test_df)):\n",
        "    X_testtest.append(concatenated[i-win_size:i])\n",
        "    y_testtest.append(concatenated[i])\n",
        "\n",
        "X_testtest = np.array(X_testtest)\n",
        "y_testtest = np.array(y_testtest)"
      ],
      "metadata": {
        "id": "vXtgNANBp4pA"
      },
      "execution_count": null,
      "outputs": []
    },
    {
      "cell_type": "code",
      "source": [
        "#%% Model deployment\n",
        "predicted = model.predict(X_testtest)"
      ],
      "metadata": {
        "colab": {
          "base_uri": "https://localhost:8080/"
        },
        "id": "j3TmGBgPqA5J",
        "outputId": "2e47f909-a16c-41e4-9a8d-e87be5a26f62"
      },
      "execution_count": null,
      "outputs": [
        {
          "output_type": "stream",
          "name": "stdout",
          "text": [
            "3/3 [==============================] - 1s 15ms/step\n"
          ]
        }
      ]
    },
    {
      "cell_type": "code",
      "source": [
        "# Inversing the normalize predicted \n",
        "\n",
        "inversed_cases = mms.inverse_transform(predicted)\n",
        "inversed_actual_cases = mms.inverse_transform(y_testtest)\n",
        "\n",
        "plt.figure()\n",
        "plt.plot(inversed_cases,color='red')\n",
        "plt.plot(inversed_actual_cases,color='blue')\n",
        "plt.legend(['Predicted','Actual'])\n",
        "plt.show()"
      ],
      "metadata": {
        "colab": {
          "base_uri": "https://localhost:8080/",
          "height": 269
        },
        "id": "aHNOMkIRqEVZ",
        "outputId": "9eeb70f9-b056-4ae7-b0aa-8c9de2e9b8f7"
      },
      "execution_count": null,
      "outputs": [
        {
          "output_type": "display_data",
          "data": {
            "text/plain": [
              "<Figure size 432x288 with 1 Axes>"
            ],
            "image/png": "[encoded data removed]"
          },
          "metadata": {
            "needs_background": "light"
          }
        }
      ]
    },
    {
      "cell_type": "code",
      "source": [
        "# Based on the data, what's the prediction for tomorrow?\n",
        "\n",
        "print(f'Prediction of tomorrow is {int(inversed_cases[-1, 0])}') "
      ],
      "metadata": {
        "colab": {
          "base_uri": "https://localhost:8080/"
        },
        "id": "fgGaM5E3rZqC",
        "outputId": "d642f685-10f4-4aac-81c7-198b25aa5d92"
      },
      "execution_count": null,
      "outputs": [
        {
          "output_type": "stream",
          "name": "stdout",
          "text": [
            "Prediction of tomorrow is 25464\n"
          ]
        }
      ]
    },
    {
      "cell_type": "code",
      "source": [
        "print(mean_absolute_error(inversed_actual_cases,inversed_cases)/sum(abs(inversed_actual_cases))*100)\n"
      ],
      "metadata": {
        "colab": {
          "base_uri": "https://localhost:8080/"
        },
        "id": "a0G3fCnTCOy6",
        "outputId": "b0130a94-196b-4a49-8b6f-d0c083bbca83"
      },
      "execution_count": null,
      "outputs": [
        {
          "output_type": "stream",
          "name": "stdout",
          "text": [
            "[0.36502967]\n"
          ]
        }
      ]
    },
    {
      "cell_type": "code",
      "source": [
        "#%% Model evaluation using metrics\n",
        "print(mean_squared_error(inversed_actual_cases,inversed_cases))\n",
        "print(mean_absolute_percentage_error(inversed_actual_cases,inversed_cases))\n"
      ],
      "metadata": {
        "colab": {
          "base_uri": "https://localhost:8080/"
        },
        "id": "mDFU03fZB6jJ",
        "outputId": "bfaadf65-cf38-4165-c5cc-1c24e24703c6"
      },
      "execution_count": null,
      "outputs": [
        {
          "output_type": "stream",
          "name": "stdout",
          "text": [
            "31417640.004580695\n",
            "2.975015210263549e+17\n"
          ]
        }
      ]
    },
    {
      "cell_type": "code",
      "source": [
        "#%% Model deployment\n",
        "# To save the trained model\n",
        "\n",
        "model.save('model.h5')\n"
      ],
      "metadata": {
        "id": "UcyNX3c-ec6B"
      },
      "execution_count": null,
      "outputs": []
    }
  ]
}